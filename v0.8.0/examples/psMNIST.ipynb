{
 "cells": [
  {
   "cell_type": "markdown",
   "metadata": {},
   "source": [
    "# Solving the permuted sequential MNIST (psMNIST) task"
   ]
  },
  {
   "cell_type": "markdown",
   "metadata": {},
   "source": [
    "The psMNIST (Permuted Sequential MNIST) task is a image classification task introduced\n",
    "in 2015 by Le, Jaitly, and Hinton ([see paper](https://arxiv.org/pdf/1504.00941.pdf)).\n",
    "It is based on the Sequential MNIST task, which itself is a derivative of the MNIST\n",
    "task. Like the MNIST task, the goal of the psMNIST task is to have a neural network\n",
    "process a 28 x 28 pixel image (of a handwritten digit) into one of ten digits (0 to 9).\n",
    "\n",
    "However, while the MNIST task presents the entire image to the network all at once, the\n",
    "Sequential MNIST and psMNIST tasks turn the image into a stream of 784 (28x28)\n",
    "individual pixels, presented to the network one at a time. The goal of the network is\n",
    "then to classify the pixel sequence as the appropriate digit after the last pixel has\n",
    "been shown. The psMNIST task adds more complexity to the input by applying a fixed\n",
    "permutation to all of the pixel sequences. This is done to ensure that the information\n",
    "contained in the image is distributed evenly throughout the sequence, so that in order\n",
    "to perform the task successfully the network needs to process information across the\n",
    "whole length of the input sequence.\n",
    "\n",
    "The following notebook uses a single KerasLMU layer inside a simple TensorFlow model to\n",
    "showcase the accuracy and efficiency of performing the psMNIST task using these novel\n",
    "memory cells. Using the LMU for this task currently produces state-of-the-art results\n",
    "([see\n",
    "paper](https://papers.nips.cc/paper/9689-legendre-memory-units-continuous-time-representation-in-recurrent-neural-networks.pdf))."
   ]
  },
  {
   "cell_type": "code",
   "execution_count": 1,
   "metadata": {
    "execution": {
     "iopub.execute_input": "2025-06-03T21:40:24.997552Z",
     "iopub.status.busy": "2025-06-03T21:40:24.997139Z",
     "iopub.status.idle": "2025-06-03T21:40:27.208687Z",
     "shell.execute_reply": "2025-06-03T21:40:27.208126Z"
    }
   },
   "outputs": [
    {
     "name": "stderr",
     "output_type": "stream",
     "text": [
      "2025-06-03 21:40:25.555195: I external/local_xla/xla/tsl/cuda/cudart_stub.cc:32] Could not find cuda drivers on your machine, GPU will not be used.\n",
      "2025-06-03 21:40:25.558018: I external/local_xla/xla/tsl/cuda/cudart_stub.cc:32] Could not find cuda drivers on your machine, GPU will not be used.\n",
      "2025-06-03 21:40:25.566368: E external/local_xla/xla/stream_executor/cuda/cuda_fft.cc:467] Unable to register cuFFT factory: Attempting to register factory for plugin cuFFT when one has already been registered\n",
      "WARNING: All log messages before absl::InitializeLog() is called are written to STDERR\n",
      "E0000 00:00:1748986825.580307    3778 cuda_dnn.cc:8579] Unable to register cuDNN factory: Attempting to register factory for plugin cuDNN when one has already been registered\n",
      "E0000 00:00:1748986825.584478    3778 cuda_blas.cc:1407] Unable to register cuBLAS factory: Attempting to register factory for plugin cuBLAS when one has already been registered\n",
      "W0000 00:00:1748986825.595657    3778 computation_placer.cc:177] computation placer already registered. Please check linkage and avoid linking the same target more than once.\n",
      "W0000 00:00:1748986825.595669    3778 computation_placer.cc:177] computation placer already registered. Please check linkage and avoid linking the same target more than once.\n",
      "W0000 00:00:1748986825.595671    3778 computation_placer.cc:177] computation placer already registered. Please check linkage and avoid linking the same target more than once.\n",
      "W0000 00:00:1748986825.595672    3778 computation_placer.cc:177] computation placer already registered. Please check linkage and avoid linking the same target more than once.\n",
      "2025-06-03 21:40:25.599450: I tensorflow/core/platform/cpu_feature_guard.cc:210] This TensorFlow binary is optimized to use available CPU instructions in performance-critical operations.\n",
      "To enable the following instructions: AVX2 FMA, in other operations, rebuild TensorFlow with the appropriate compiler flags.\n"
     ]
    }
   ],
   "source": [
    "%matplotlib inline\n",
    "\n",
    "import keras\n",
    "import numpy as np\n",
    "import matplotlib.pyplot as plt\n",
    "from IPython.display import Image, display\n",
    "import tensorflow as tf\n",
    "\n",
    "import keras_lmu"
   ]
  },
  {
   "cell_type": "markdown",
   "metadata": {},
   "source": [
    "## Loading and formatting the dataset"
   ]
  },
  {
   "cell_type": "markdown",
   "metadata": {},
   "source": [
    "First we set a seed to ensure that the results in this example are reproducible. A\n",
    "random number generator (`rng`) is also created, and this will later be used to\n",
    "generate the fixed permutation to be applied to the image data."
   ]
  },
  {
   "cell_type": "code",
   "execution_count": 2,
   "metadata": {
    "execution": {
     "iopub.execute_input": "2025-06-03T21:40:27.211428Z",
     "iopub.status.busy": "2025-06-03T21:40:27.210904Z",
     "iopub.status.idle": "2025-06-03T21:40:27.215059Z",
     "shell.execute_reply": "2025-06-03T21:40:27.214401Z"
    }
   },
   "outputs": [],
   "source": [
    "seed = 0\n",
    "tf.random.set_seed(seed)\n",
    "np.random.seed(seed)\n",
    "rng = np.random.RandomState(seed)"
   ]
  },
  {
   "cell_type": "markdown",
   "metadata": {},
   "source": [
    "We now obtain the standard MNIST dataset of handwritten digits from `keras.datasets`."
   ]
  },
  {
   "cell_type": "code",
   "execution_count": 3,
   "metadata": {
    "execution": {
     "iopub.execute_input": "2025-06-03T21:40:27.217091Z",
     "iopub.status.busy": "2025-06-03T21:40:27.216848Z",
     "iopub.status.idle": "2025-06-03T21:40:27.410416Z",
     "shell.execute_reply": "2025-06-03T21:40:27.409827Z"
    }
   },
   "outputs": [],
   "source": [
    "(train_images, train_labels), (\n",
    "    test_images,\n",
    "    test_labels,\n",
    ") = keras.datasets.mnist.load_data()"
   ]
  },
  {
   "cell_type": "markdown",
   "metadata": {},
   "source": [
    "Since the pixel values of each image in the dataset have a range of 0 to 255, they are\n",
    "divided by 255 to change this range to 0 to 1. Let's also display a sample image from\n",
    "the MNIST dataset to get an idea of the kind of images the network is working with."
   ]
  },
  {
   "cell_type": "code",
   "execution_count": 4,
   "metadata": {
    "execution": {
     "iopub.execute_input": "2025-06-03T21:40:27.412582Z",
     "iopub.status.busy": "2025-06-03T21:40:27.412393Z",
     "iopub.status.idle": "2025-06-03T21:40:27.541781Z",
     "shell.execute_reply": "2025-06-03T21:40:27.541184Z"
    }
   },
   "outputs": [
    {
     "data": {
      "image/png": "[encoded data removed]",
      "text/plain": [
       "<Figure size 640x480 with 1 Axes>"
      ]
     },
     "metadata": {},
     "output_type": "display_data"
    }
   ],
   "source": [
    "train_images = train_images / 255\n",
    "test_images = test_images / 255\n",
    "\n",
    "plt.figure()\n",
    "plt.imshow(np.reshape(train_images[0], (28, 28)), cmap=\"gray\")\n",
    "plt.axis(\"off\")\n",
    "plt.title(f\"Sample image of the digit '{train_labels[0]}'\")\n",
    "plt.show()"
   ]
  },
  {
   "cell_type": "markdown",
   "metadata": {},
   "source": [
    "Next, we have to convert the data from the MNIST format into the sequence of pixels that\n",
    "is used in the psMNIST task. To do this, we flatten the image by calling the `reshape`\n",
    "method on the images. The first dimension of the reshaped output size represents the\n",
    "number of samples our dataset has, which we keep the same. We want to transform each\n",
    "sample into a column vector, and to do so we make the second and third dimensions -1 and\n",
    "1, respectively.\n",
    "\n",
    "The image displayed below shows the result of this flattening process, and is an example\n",
    "of the type of data that is used in the Sequential MNIST task. Note that even though the\n",
    "image has been flattened, there is still a fair amount of structure observable in the\n",
    "image."
   ]
  },
  {
   "cell_type": "code",
   "execution_count": 5,
   "metadata": {
    "execution": {
     "iopub.execute_input": "2025-06-03T21:40:27.543789Z",
     "iopub.status.busy": "2025-06-03T21:40:27.543590Z",
     "iopub.status.idle": "2025-06-03T21:40:27.578171Z",
     "shell.execute_reply": "2025-06-03T21:40:27.577449Z"
    }
   },
   "outputs": [
    {
     "data": {
      "image/png": "[encoded data removed]",
      "text/plain": [
       "<Figure size 640x480 with 1 Axes>"
      ]
     },
     "metadata": {},
     "output_type": "display_data"
    }
   ],
   "source": [
    "train_images = train_images.reshape((train_images.shape[0], -1, 1))\n",
    "test_images = test_images.reshape((test_images.shape[0], -1, 1))\n",
    "\n",
    "# we'll display the sequence in 8 rows just so that it fits better on the screen\n",
    "plt.figure()\n",
    "plt.imshow(train_images[0].reshape(8, -1), cmap=\"gray\")\n",
    "plt.axis(\"off\")\n",
    "plt.title(f\"Sample sequence of the digit '{train_labels[0]}' (reshaped to 98 x 8)\")\n",
    "plt.show()"
   ]
  },
  {
   "cell_type": "markdown",
   "metadata": {},
   "source": [
    "Finally, we apply a fixed permutation on the images in both the training and testing\n",
    "datasets. This shuffles the pixels of the image sequences in a consistent\n",
    "way, allowing for images of the same digit to still be similar, but removing the\n",
    "convenience of edges and contours that the network can use for easy digit inference.\n",
    "\n",
    "We can see, from the image below, that the fixed permutation applied to the image\n",
    "creates an even distribute of pixels across the entire sequence. This makes the task\n",
    "much more difficult, as it makes it necessary for the network to process the entire\n",
    "input\n",
    "sequence to accurately classify the digit. We now have our data for the Permuted\n",
    "Sequential MNIST (psMNIST) task."
   ]
  },
  {
   "cell_type": "code",
   "execution_count": 6,
   "metadata": {
    "execution": {
     "iopub.execute_input": "2025-06-03T21:40:27.580266Z",
     "iopub.status.busy": "2025-06-03T21:40:27.579766Z",
     "iopub.status.idle": "2025-06-03T21:40:27.917139Z",
     "shell.execute_reply": "2025-06-03T21:40:27.916499Z"
    }
   },
   "outputs": [
    {
     "data": {
      "image/png": "[encoded data removed]",
      "text/plain": [
       "<Figure size 640x480 with 1 Axes>"
      ]
     },
     "metadata": {},
     "output_type": "display_data"
    }
   ],
   "source": [
    "perm = rng.permutation(train_images.shape[1])\n",
    "train_images = train_images[:, perm]\n",
    "test_images = test_images[:, perm]\n",
    "\n",
    "plt.figure()\n",
    "plt.imshow(train_images[0].reshape(8, -1), cmap=\"gray\")\n",
    "plt.axis(\"off\")\n",
    "plt.title(f\"Permuted sequence of the digit '{train_labels[0]}' (reshaped to 98 x 8)\")\n",
    "plt.show()"
   ]
  },
  {
   "cell_type": "markdown",
   "metadata": {},
   "source": [
    "From the images in the training set, we allocate the first 50,000 images for training,\n",
    "and the remaining 10,000 for validation. We print out the shapes of these datasets to\n",
    "ensure the slicing has been done correctly."
   ]
  },
  {
   "cell_type": "code",
   "execution_count": 7,
   "metadata": {
    "execution": {
     "iopub.execute_input": "2025-06-03T21:40:27.919115Z",
     "iopub.status.busy": "2025-06-03T21:40:27.918942Z",
     "iopub.status.idle": "2025-06-03T21:40:27.922685Z",
     "shell.execute_reply": "2025-06-03T21:40:27.922214Z"
    }
   },
   "outputs": [
    {
     "name": "stdout",
     "output_type": "stream",
     "text": [
      "Training inputs shape: (50000, 784, 1), Training targets shape: (50000,)\n",
      "Validation inputs shape: (10000, 784, 1), Validation targets shape: (10000,)\n",
      "Testing inputs shape: (10000, 784, 1), Testing targets shape: (10000,)\n"
     ]
    }
   ],
   "source": [
    "X_train = train_images[:50000]\n",
    "X_valid = train_images[50000:]\n",
    "X_test = test_images\n",
    "\n",
    "Y_train = train_labels[:50000]\n",
    "Y_valid = train_labels[50000:]\n",
    "Y_test = test_labels\n",
    "\n",
    "print(\n",
    "    f\"Training inputs shape: {X_train.shape}, \"\n",
    "    f\"Training targets shape: {Y_train.shape}\"\n",
    ")\n",
    "print(\n",
    "    f\"Validation inputs shape: {X_valid.shape}, \"\n",
    "    f\"Validation targets shape: {Y_valid.shape}\"\n",
    ")\n",
    "print(f\"Testing inputs shape: {X_test.shape}, Testing targets shape: {Y_test.shape}\")"
   ]
  },
  {
   "cell_type": "markdown",
   "metadata": {},
   "source": [
    "## Defining the model"
   ]
  },
  {
   "cell_type": "markdown",
   "metadata": {},
   "source": [
    "Our model uses a single LMU layer configured with 212 hidden `units` and an `order` of\n",
    "256\n",
    "dimensions for the memory, maintaining `units` + `order` = 468 variables in memory\n",
    "between time-steps. These numbers were chosen primarily to have a comparable number of\n",
    "internal variables to the models that were being compared against in the\n",
    "[paper](https://arxiv.org/pdf/1504.00941.pdf).\n",
    "We set `theta` to 784 (the number of pixels in each sequence). We also disable the\n",
    "`hidden_to_memory` and `memory_to_memory` connections, as based on our experimentation\n",
    "they are not needed/helpful in this problem.\n",
    "\n",
    "The output of the LMU layer is connected to a `Dense` linear layer with an output\n",
    "dimensionality of 10, one for each possible digit class."
   ]
  },
  {
   "cell_type": "code",
   "execution_count": 8,
   "metadata": {
    "execution": {
     "iopub.execute_input": "2025-06-03T21:40:27.924684Z",
     "iopub.status.busy": "2025-06-03T21:40:27.924343Z",
     "iopub.status.idle": "2025-06-03T21:40:28.855858Z",
     "shell.execute_reply": "2025-06-03T21:40:28.855202Z"
    }
   },
   "outputs": [
    {
     "name": "stderr",
     "output_type": "stream",
     "text": [
      "2025-06-03 21:40:27.928372: E external/local_xla/xla/stream_executor/cuda/cuda_platform.cc:51] failed call to cuInit: INTERNAL: CUDA error: Failed call to cuInit: UNKNOWN ERROR (303)\n"
     ]
    },
    {
     "data": {
      "text/html": [
       "<pre style=\"white-space:pre;overflow-x:auto;line-height:normal;font-family:Menlo,'DejaVu Sans Mono',consolas,'Courier New',monospace\"><span style=\"font-weight: bold\">Model: \"functional\"</span>\n",
       "</pre>\n"
      ],
      "text/plain": [
       "\u001b[1mModel: \"functional\"\u001b[0m\n"
      ]
     },
     "metadata": {},
     "output_type": "display_data"
    },
    {
     "data": {
      "text/html": [
       "<pre style=\"white-space:pre;overflow-x:auto;line-height:normal;font-family:Menlo,'DejaVu Sans Mono',consolas,'Courier New',monospace\">┏━━━━━━━━━━━━━━━━━━━━━━━━━━━━━━━━━┳━━━━━━━━━━━━━━━━━━━━━━━━┳━━━━━━━━━━━━━━━┓\n",
       "┃<span style=\"font-weight: bold\"> Layer (type)                    </span>┃<span style=\"font-weight: bold\"> Output Shape           </span>┃<span style=\"font-weight: bold\">       Param # </span>┃\n",
       "┡━━━━━━━━━━━━━━━━━━━━━━━━━━━━━━━━━╇━━━━━━━━━━━━━━━━━━━━━━━━╇━━━━━━━━━━━━━━━┩\n",
       "│ input_layer (<span style=\"color: #0087ff; text-decoration-color: #0087ff\">InputLayer</span>)        │ (<span style=\"color: #00d7ff; text-decoration-color: #00d7ff\">None</span>, <span style=\"color: #00af00; text-decoration-color: #00af00\">784</span>, <span style=\"color: #00af00; text-decoration-color: #00af00\">1</span>)         │             <span style=\"color: #00af00; text-decoration-color: #00af00\">0</span> │\n",
       "├─────────────────────────────────┼────────────────────────┼───────────────┤\n",
       "│ lmu (<span style=\"color: #0087ff; text-decoration-color: #0087ff\">LMU</span>)                       │ (<span style=\"color: #00d7ff; text-decoration-color: #00d7ff\">None</span>, <span style=\"color: #00af00; text-decoration-color: #00af00\">212</span>)            │        <span style=\"color: #00af00; text-decoration-color: #00af00\">99,641</span> │\n",
       "├─────────────────────────────────┼────────────────────────┼───────────────┤\n",
       "│ dense (<span style=\"color: #0087ff; text-decoration-color: #0087ff\">Dense</span>)                   │ (<span style=\"color: #00d7ff; text-decoration-color: #00d7ff\">None</span>, <span style=\"color: #00af00; text-decoration-color: #00af00\">10</span>)             │         <span style=\"color: #00af00; text-decoration-color: #00af00\">2,130</span> │\n",
       "└─────────────────────────────────┴────────────────────────┴───────────────┘\n",
       "</pre>\n"
      ],
      "text/plain": [
       "┏━━━━━━━━━━━━━━━━━━━━━━━━━━━━━━━━━┳━━━━━━━━━━━━━━━━━━━━━━━━┳━━━━━━━━━━━━━━━┓\n",
       "┃\u001b[1m \u001b[0m\u001b[1mLayer (type)                   \u001b[0m\u001b[1m \u001b[0m┃\u001b[1m \u001b[0m\u001b[1mOutput Shape          \u001b[0m\u001b[1m \u001b[0m┃\u001b[1m \u001b[0m\u001b[1m      Param #\u001b[0m\u001b[1m \u001b[0m┃\n",
       "┡━━━━━━━━━━━━━━━━━━━━━━━━━━━━━━━━━╇━━━━━━━━━━━━━━━━━━━━━━━━╇━━━━━━━━━━━━━━━┩\n",
       "│ input_layer (\u001b[38;5;33mInputLayer\u001b[0m)        │ (\u001b[38;5;45mNone\u001b[0m, \u001b[38;5;34m784\u001b[0m, \u001b[38;5;34m1\u001b[0m)         │             \u001b[38;5;34m0\u001b[0m │\n",
       "├─────────────────────────────────┼────────────────────────┼───────────────┤\n",
       "│ lmu (\u001b[38;5;33mLMU\u001b[0m)                       │ (\u001b[38;5;45mNone\u001b[0m, \u001b[38;5;34m212\u001b[0m)            │        \u001b[38;5;34m99,641\u001b[0m │\n",
       "├─────────────────────────────────┼────────────────────────┼───────────────┤\n",
       "│ dense (\u001b[38;5;33mDense\u001b[0m)                   │ (\u001b[38;5;45mNone\u001b[0m, \u001b[38;5;34m10\u001b[0m)             │         \u001b[38;5;34m2,130\u001b[0m │\n",
       "└─────────────────────────────────┴────────────────────────┴───────────────┘\n"
      ]
     },
     "metadata": {},
     "output_type": "display_data"
    },
    {
     "data": {
      "text/html": [
       "<pre style=\"white-space:pre;overflow-x:auto;line-height:normal;font-family:Menlo,'DejaVu Sans Mono',consolas,'Courier New',monospace\"><span style=\"font-weight: bold\"> Total params: </span><span style=\"color: #00af00; text-decoration-color: #00af00\">101,771</span> (397.54 KB)\n",
       "</pre>\n"
      ],
      "text/plain": [
       "\u001b[1m Total params: \u001b[0m\u001b[38;5;34m101,771\u001b[0m (397.54 KB)\n"
      ]
     },
     "metadata": {},
     "output_type": "display_data"
    },
    {
     "data": {
      "text/html": [
       "<pre style=\"white-space:pre;overflow-x:auto;line-height:normal;font-family:Menlo,'DejaVu Sans Mono',consolas,'Courier New',monospace\"><span style=\"font-weight: bold\"> Trainable params: </span><span style=\"color: #00af00; text-decoration-color: #00af00\">101,771</span> (397.54 KB)\n",
       "</pre>\n"
      ],
      "text/plain": [
       "\u001b[1m Trainable params: \u001b[0m\u001b[38;5;34m101,771\u001b[0m (397.54 KB)\n"
      ]
     },
     "metadata": {},
     "output_type": "display_data"
    },
    {
     "data": {
      "text/html": [
       "<pre style=\"white-space:pre;overflow-x:auto;line-height:normal;font-family:Menlo,'DejaVu Sans Mono',consolas,'Courier New',monospace\"><span style=\"font-weight: bold\"> Non-trainable params: </span><span style=\"color: #00af00; text-decoration-color: #00af00\">0</span> (0.00 B)\n",
       "</pre>\n"
      ],
      "text/plain": [
       "\u001b[1m Non-trainable params: \u001b[0m\u001b[38;5;34m0\u001b[0m (0.00 B)\n"
      ]
     },
     "metadata": {},
     "output_type": "display_data"
    }
   ],
   "source": [
    "n_pixels = X_train.shape[1]\n",
    "\n",
    "lmu_layer = keras_lmu.LMU(\n",
    "    memory_d=1,\n",
    "    order=256,\n",
    "    theta=n_pixels,\n",
    "    hidden_cell=keras.layers.SimpleRNNCell(212),\n",
    "    hidden_to_memory=False,\n",
    "    memory_to_memory=False,\n",
    "    input_to_hidden=True,\n",
    "    kernel_initializer=\"ones\",\n",
    ")\n",
    "\n",
    "# TensorFlow layer definition\n",
    "inputs = keras.Input((n_pixels, 1))\n",
    "lmus = lmu_layer(inputs)\n",
    "outputs = keras.layers.Dense(10)(lmus)\n",
    "\n",
    "# TensorFlow model definition\n",
    "model = keras.Model(inputs=inputs, outputs=outputs)\n",
    "model.compile(\n",
    "    loss=keras.losses.SparseCategoricalCrossentropy(from_logits=True),\n",
    "    optimizer=\"adam\",\n",
    "    metrics=[\"accuracy\"],\n",
    ")\n",
    "model.summary()"
   ]
  },
  {
   "cell_type": "markdown",
   "metadata": {},
   "source": [
    "## Training the model"
   ]
  },
  {
   "cell_type": "markdown",
   "metadata": {},
   "source": [
    "To train our model we use a `batch_size` of 100 and train for 10 `epochs`, which is\n",
    "far less than most other solutions to the psMNIST task. We could train for more epochs\n",
    "if we wished to fine-tune performance, but that is not necessary for the purposes of\n",
    "this example. We also create a `ModelCheckpoint` callback that saves the weights of the\n",
    "model to a file after each epoch.\n",
    "\n",
    "Training may take\n",
    "a long time to complete, and to save time this notebook defaults to using pre-trained\n",
    "weights. To train the model from scratch, simply change the `do_training` variable to\n",
    "`True` before running the cell below."
   ]
  },
  {
   "cell_type": "code",
   "execution_count": 9,
   "metadata": {
    "execution": {
     "iopub.execute_input": "2025-06-03T21:40:28.858203Z",
     "iopub.status.busy": "2025-06-03T21:40:28.857824Z",
     "iopub.status.idle": "2025-06-03T21:40:28.861634Z",
     "shell.execute_reply": "2025-06-03T21:40:28.861155Z"
    }
   },
   "outputs": [],
   "source": [
    "do_training = False\n",
    "batch_size = 100\n",
    "epochs = 10\n",
    "\n",
    "saved_model_fname = \"./psMNIST.keras\"\n",
    "callbacks = [\n",
    "    keras.callbacks.ModelCheckpoint(\n",
    "        filepath=saved_model_fname,\n",
    "        monitor=\"val_accuracy\",\n",
    "        verbose=1,\n",
    "        save_best_only=True,\n",
    "    ),\n",
    "]\n",
    "\n",
    "result = None\n",
    "if do_training:\n",
    "    result = model.fit(\n",
    "        X_train,\n",
    "        Y_train,\n",
    "        epochs=epochs,\n",
    "        batch_size=batch_size,\n",
    "        validation_data=(X_valid, Y_valid),\n",
    "        callbacks=callbacks,\n",
    "    )"
   ]
  },
  {
   "cell_type": "markdown",
   "metadata": {},
   "source": [
    "The progression of the training process is shown below, plotting the\n",
    "training and validation accuracy."
   ]
  },
  {
   "cell_type": "code",
   "execution_count": 10,
   "metadata": {
    "execution": {
     "iopub.execute_input": "2025-06-03T21:40:28.863499Z",
     "iopub.status.busy": "2025-06-03T21:40:28.863164Z",
     "iopub.status.idle": "2025-06-03T21:40:28.869039Z",
     "shell.execute_reply": "2025-06-03T21:40:28.868408Z"
    }
   },
   "outputs": [
    {
     "data": {
      "image/png": "[encoded data removed]",
      "text/plain": [
       "<IPython.core.display.Image object>"
      ]
     },
     "metadata": {},
     "output_type": "display_data"
    }
   ],
   "source": [
    "if do_training:\n",
    "    plt.figure()\n",
    "    plt.plot(result.history[\"val_accuracy\"], label=\"Validation\")\n",
    "    plt.plot(result.history[\"accuracy\"], label=\"Training\")\n",
    "    plt.legend()\n",
    "    plt.xlabel(\"Epoch\")\n",
    "    plt.ylabel(\"Accuracy\")\n",
    "    plt.title(\"Post-epoch training accuracies\")\n",
    "    plt.xticks(np.arange(epochs), np.arange(1, epochs + 1))\n",
    "    plt.ylim((0.85, 1.0))  # Restrict range of y axis to (0.85, 1) for readability\n",
    "    plt.savefig(\"psMNIST-training.png\")\n",
    "\n",
    "    val_loss_min = np.argmin(result.history[\"val_loss\"])\n",
    "    print(\n",
    "        f\"Maximum validation accuracy: \"\n",
    "        f\"{round(result.history['val_accuracy'][val_loss_min] * 100, 2):.2f}%\"\n",
    "    )\n",
    "\n",
    "else:\n",
    "    display(Image(filename=\"psMNIST-training.png\"))"
   ]
  },
  {
   "cell_type": "markdown",
   "metadata": {},
   "source": [
    "## Testing the model"
   ]
  },
  {
   "cell_type": "markdown",
   "metadata": {},
   "source": [
    "With the training complete, let's use the trained weights to test the model. Since the\n",
    "best weights are saved to file, we can simply load the saved weights, then\n",
    "test it against the permuted sequences in the test set."
   ]
  },
  {
   "cell_type": "code",
   "execution_count": 11,
   "metadata": {
    "execution": {
     "iopub.execute_input": "2025-06-03T21:40:28.871293Z",
     "iopub.status.busy": "2025-06-03T21:40:28.870693Z",
     "iopub.status.idle": "2025-06-03T21:41:09.434697Z",
     "shell.execute_reply": "2025-06-03T21:41:09.434089Z"
    }
   },
   "outputs": [
    {
     "name": "stderr",
     "output_type": "stream",
     "text": [
      "/home/runner/micromamba/envs/ci/lib/python3.10/site-packages/keras/src/saving/saving_lib.py:802: UserWarning: Skipping variable loading for optimizer 'adam', because it has 2 variables whereas the saved optimizer has 14 variables. \n",
      "  saveable.load_own_variables(weights_store.get(inner_path))\n"
     ]
    },
    {
     "name": "stdout",
     "output_type": "stream",
     "text": [
      "Test accuracy: 96.41%\n"
     ]
    }
   ],
   "source": [
    "model.load_weights(saved_model_fname)\n",
    "accuracy = model.evaluate(X_test, Y_test, verbose=0)[1] * 100\n",
    "print(f\"Test accuracy: {round(accuracy, 2):0.2f}%\")"
   ]
  },
  {
   "cell_type": "markdown",
   "metadata": {},
   "source": [
    "As the results demonstrate, the LMU network has achieved greater than 96% accuracy on\n",
    "the test dataset. This is considered state-of-the-art for the psMNIST task, which is\n",
    "made more impressive considering the model has only been trained for 10 epochs."
   ]
  }
 ],
 "metadata": {
  "language_info": {
   "codemirror_mode": {
    "name": "ipython",
    "version": 3
   },
   "file_extension": ".py",
   "mimetype": "text/x-python",
   "name": "python",
   "nbconvert_exporter": "python",
   "pygments_lexer": "ipython3",
   "version": "3.10.17"
  }
 },
 "nbformat": 4,
 "nbformat_minor": 2
}
